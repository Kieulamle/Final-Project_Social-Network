{
 "cells": [
  {
   "cell_type": "code",
   "execution_count": 1,
   "id": "f003e45c-a4ae-4eb3-948a-aa3a03d8dab0",
   "metadata": {},
   "outputs": [
    {
     "name": "stdout",
     "output_type": "stream",
     "text": [
      "Data(x=[2708, 1433], edge_index=[2, 10556], y=[2708], train_mask=[2708], val_mask=[2708], test_mask=[2708], year=[2708])\n"
     ]
    }
   ],
   "source": [
    "import torch\n",
    "import torch.nn.functional as F\n",
    "import torch.optim as optim\n",
    "from torch_geometric.datasets import Planetoid\n",
    "from torch_geometric.nn import SAGEConv\n",
    "import pandas as pd\n",
    "import matplotlib.pyplot as plt\n",
    "import numpy as np\n",
    "\n",
    "# Tải dataset Cora\n",
    "dataset = Planetoid(root='/tmp/Cora', name='Cora')\n",
    "\n",
    "# Lấy dữ liệu\n",
    "data = dataset[0]\n",
    "\n",
    "# Giả định năm ngẫu nhiên cho các bài báo trong khoảng từ 2000 đến 2005\n",
    "np.random.seed(42)  # Đặt seed để kết quả ngẫu nhiên được tái hiện\n",
    "data.year = torch.tensor(np.random.randint(2000, 2006, data.num_nodes))\n",
    "\n",
    "# Kiểm tra cấu trúc dữ liệu\n",
    "print(data)"
   ]
  },
  {
   "cell_type": "code",
   "execution_count": 2,
   "id": "2b442dca-18ba-49a4-a7ba-b000d8f3a8de",
   "metadata": {},
   "outputs": [],
   "source": [
    "class GraphSAGE(torch.nn.Module):\n",
    "    def __init__(self, in_channels, hidden_channels, out_channels):\n",
    "        super(GraphSAGE, self).__init__()\n",
    "        self.conv1 = SAGEConv(in_channels, hidden_channels)\n",
    "        self.conv2 = SAGEConv(hidden_channels, out_channels)\n",
    "\n",
    "    def forward(self, x, edge_index):\n",
    "        x = self.conv1(x, edge_index)\n",
    "        x = F.relu(x)\n",
    "        x = self.conv2(x, edge_index)\n",
    "        return F.log_softmax(x, dim=1)\n",
    "\n",
    "# Khởi tạo mô hình\n",
    "model = GraphSAGE(dataset.num_features, 16, dataset.num_classes)\n",
    "optimizer = optim.Adam(model.parameters(), lr=0.01, weight_decay=5e-4)"
   ]
  },
  {
   "cell_type": "code",
   "execution_count": 3,
   "id": "50c0fc26-39d4-41b5-81c6-629fd4ba5365",
   "metadata": {},
   "outputs": [
    {
     "name": "stdout",
     "output_type": "stream",
     "text": [
      "Epoch 0, Loss: 1.9626, Train Acc: 0.5071, Val Acc: 0.2420, Test Acc: 0.2760\n",
      "Epoch 10, Loss: 0.0896, Train Acc: 1.0000, Val Acc: 0.7100, Test Acc: 0.7520\n",
      "Epoch 20, Loss: 0.0033, Train Acc: 1.0000, Val Acc: 0.6900, Test Acc: 0.7160\n",
      "Epoch 30, Loss: 0.0007, Train Acc: 1.0000, Val Acc: 0.7260, Test Acc: 0.7560\n",
      "Epoch 40, Loss: 0.0006, Train Acc: 1.0000, Val Acc: 0.7440, Test Acc: 0.7730\n",
      "Epoch 50, Loss: 0.0010, Train Acc: 1.0000, Val Acc: 0.7460, Test Acc: 0.7820\n",
      "Epoch 60, Loss: 0.0018, Train Acc: 1.0000, Val Acc: 0.7460, Test Acc: 0.7830\n",
      "Epoch 70, Loss: 0.0031, Train Acc: 1.0000, Val Acc: 0.7440, Test Acc: 0.7800\n",
      "Epoch 80, Loss: 0.0042, Train Acc: 1.0000, Val Acc: 0.7480, Test Acc: 0.7840\n",
      "Epoch 90, Loss: 0.0048, Train Acc: 1.0000, Val Acc: 0.7520, Test Acc: 0.7890\n",
      "Epoch 100, Loss: 0.0048, Train Acc: 1.0000, Val Acc: 0.7560, Test Acc: 0.7880\n",
      "Epoch 110, Loss: 0.0047, Train Acc: 1.0000, Val Acc: 0.7600, Test Acc: 0.7900\n",
      "Epoch 120, Loss: 0.0045, Train Acc: 1.0000, Val Acc: 0.7600, Test Acc: 0.7880\n",
      "Epoch 130, Loss: 0.0043, Train Acc: 1.0000, Val Acc: 0.7580, Test Acc: 0.7890\n",
      "Epoch 140, Loss: 0.0042, Train Acc: 1.0000, Val Acc: 0.7560, Test Acc: 0.7910\n",
      "Epoch 150, Loss: 0.0041, Train Acc: 1.0000, Val Acc: 0.7580, Test Acc: 0.7920\n",
      "Epoch 160, Loss: 0.0040, Train Acc: 1.0000, Val Acc: 0.7600, Test Acc: 0.7960\n",
      "Epoch 170, Loss: 0.0038, Train Acc: 1.0000, Val Acc: 0.7600, Test Acc: 0.7950\n",
      "Epoch 180, Loss: 0.0037, Train Acc: 1.0000, Val Acc: 0.7620, Test Acc: 0.7960\n",
      "Epoch 190, Loss: 0.0036, Train Acc: 1.0000, Val Acc: 0.7620, Test Acc: 0.7970\n"
     ]
    }
   ],
   "source": [
    "def train():\n",
    "    model.train()\n",
    "    optimizer.zero_grad()\n",
    "    out = model(data.x, data.edge_index)\n",
    "    loss = F.nll_loss(out[data.train_mask], data.y[data.train_mask])\n",
    "    loss.backward()\n",
    "    optimizer.step()\n",
    "    return loss.item()\n",
    "\n",
    "def test():\n",
    "    model.eval()\n",
    "    logits, accs = model(data.x, data.edge_index), []\n",
    "    for _, mask in data('train_mask', 'val_mask', 'test_mask'):\n",
    "        pred = logits[mask].max(1)[1]\n",
    "        acc = pred.eq(data.y[mask]).sum().item() / mask.sum().item()\n",
    "        accs.append(acc)\n",
    "    return accs\n",
    "\n",
    "for epoch in range(200):\n",
    "    loss = train()\n",
    "    train_acc, val_acc, test_acc = test()\n",
    "    if epoch % 10 == 0:\n",
    "        print(f'Epoch {epoch}, Loss: {loss:.4f}, Train Acc: {train_acc:.4f}, Val Acc: {val_acc:.4f}, Test Acc: {test_acc:.4f}')\n",
    "\n",
    "# Lấy các dự đoán trên tập test\n",
    "model.eval()\n",
    "out = model(data.x, data.edge_index)\n",
    "pred = out.max(1)[1]\n"
   ]
  },
  {
   "cell_type": "code",
   "execution_count": 4,
   "id": "19a70f51-ab18-4770-a66c-d1e6e3d5db02",
   "metadata": {},
   "outputs": [
    {
     "name": "stdout",
     "output_type": "stream",
     "text": [
      "predicted_topic         0         1         2         3         4         5  \\\n",
      "year                                                                          \n",
      "2000             0.129590  0.123110  0.138229  0.261339  0.179266  0.071274   \n",
      "2001             0.129386  0.100877  0.140351  0.239035  0.184211  0.109649   \n",
      "2002             0.136364  0.095694  0.148325  0.244019  0.198565  0.102871   \n",
      "2003             0.120350  0.100656  0.146608  0.251641  0.188184  0.109409   \n",
      "2004             0.125800  0.095949  0.157783  0.211087  0.181237  0.125800   \n",
      "2005             0.164045  0.103371  0.146067  0.217978  0.173034  0.103371   \n",
      "\n",
      "predicted_topic         6  \n",
      "year                       \n",
      "2000             0.097192  \n",
      "2001             0.096491  \n",
      "2002             0.074163  \n",
      "2003             0.083151  \n",
      "2004             0.102345  \n",
      "2005             0.092135  \n"
     ]
    }
   ],
   "source": [
    "# Gán các dự đoán cho data\n",
    "data.y_pred = pred\n",
    "\n",
    "# Tạo DataFrame chứa thông tin bài báo và chủ đề\n",
    "df = pd.DataFrame({\n",
    "    'year': data.year.numpy(),\n",
    "    'actual_topic': data.y.numpy(),\n",
    "    'predicted_topic': data.y_pred.numpy()\n",
    "})\n",
    "\n",
    "# Tính tỷ lệ chủ đề từng năm\n",
    "topic_year_df = df.groupby(['year', 'predicted_topic']).size().unstack(fill_value=0)\n",
    "topic_year_df = topic_year_df.apply(lambda x: x / x.sum(), axis=1)\n",
    "\n",
    "# Hiển thị tỷ lệ chủ đề từng năm\n",
    "print(topic_year_df)"
   ]
  },
  {
   "cell_type": "code",
   "execution_count": 5,
   "id": "66d4f798-8620-4130-a559-ede73a1f0b9a",
   "metadata": {},
   "outputs": [
    {
     "data": {
      "image/png": "[encoded data removed]",
      "text/plain": [
       "<Figure size 1000x700 with 1 Axes>"
      ]
     },
     "metadata": {},
     "output_type": "display_data"
    }
   ],
   "source": [
    "# Biểu đồ tỷ lệ chủ đề từng năm\n",
    "topic_year_df.plot(kind='bar', stacked=True, figsize=(10, 7))\n",
    "plt.xlabel('Year')\n",
    "plt.ylabel('Proportion')\n",
    "plt.title('Topic Proportions by Year')\n",
    "plt.legend(title='Topic', bbox_to_anchor=(1.05, 1), loc='upper left')\n",
    "plt.show()"
   ]
  },
  {
   "cell_type": "code",
   "execution_count": null,
   "id": "de65e797-806f-4516-9bbf-8ec75e0d3f5a",
   "metadata": {},
   "outputs": [],
   "source": []
  }
 ],
 "metadata": {
  "kernelspec": {
   "display_name": "Python 3 (ipykernel)",
   "language": "python",
   "name": "python3"
  },
  "language_info": {
   "codemirror_mode": {
    "name": "ipython",
    "version": 3
   },
   "file_extension": ".py",
   "mimetype": "text/x-python",
   "name": "python",
   "nbconvert_exporter": "python",
   "pygments_lexer": "ipython3",
   "version": "3.11.5"
  }
 },
 "nbformat": 4,
 "nbformat_minor": 5
}
